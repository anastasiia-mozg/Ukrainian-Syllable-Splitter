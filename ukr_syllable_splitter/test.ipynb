{
 "cells": [
  {
   "cell_type": "code",
   "execution_count": 25,
   "id": "624ee269",
   "metadata": {},
   "outputs": [],
   "source": [
    "import re, copy, time, timeit\n",
    "from SyllableSplitter import SyllableSplitter"
   ]
  },
  {
   "cell_type": "code",
   "execution_count": 18,
   "id": "2fcab494",
   "metadata": {},
   "outputs": [],
   "source": [
    "test_poem = '''Я з Ва.ми роз.ста.нусь і бу.ду десь в Чі.ка.го\n",
    "чи Мель.бур.ні\n",
    "І там кап.риз.на до.ля мо.же зве.сти нас\n",
    "Я бу.ду ва.го.но.во.дом на трам.ва.ї,\n",
    "ул.иц.і бу.дуть ди.мні і хму.рні\n",
    "І ра.птом я зо.ба.чу між па.са.жи.рів Вас\n",
    "\n",
    "Ви ски.не.те о.чи.ма, і я спо.сте.ре.жу, як\n",
    "здриг.нуть.ся ку.ти.ки Ва.ших губ\n",
    "Ви при.га.да.є.те Вла.ди.во.сток і зро.би.те рух щось\n",
    "ви.мо.вить,\n",
    "ні.би в ва.го.ні для нас не.ма.є ні.ко.го\n",
    "Я зма.га.юсь, щоб не за.плющ.и.ти о.чі А.ле\n",
    "у нас не ви.ни.кне роз.мо.ви про ко.лись\n",
    "о.мрі.я.ний шлюб,\n",
    "Бо ва.го.но.во.до.ві роз.мов.ля.ти за.бо.ро.ня.єть.ся\n",
    "стро.го'''"
   ]
  },
  {
   "cell_type": "code",
   "execution_count": 19,
   "id": "cfb7d85b",
   "metadata": {},
   "outputs": [],
   "source": [
    "test_poem = test_poem.replace(',', '')"
   ]
  },
  {
   "cell_type": "code",
   "execution_count": 20,
   "id": "37041a92",
   "metadata": {},
   "outputs": [],
   "source": [
    "words = set(word.lower() for word in test_poem.split())"
   ]
  },
  {
   "cell_type": "code",
   "execution_count": 21,
   "id": "34ecc4c8",
   "metadata": {},
   "outputs": [],
   "source": [
    "test_dict = {word.replace('.', ''):word.split('.') for word in words}"
   ]
  },
  {
   "cell_type": "code",
   "execution_count": 22,
   "id": "a03f5e08",
   "metadata": {},
   "outputs": [],
   "source": [
    "def is_same(l1, l2) -> int:\n",
    "    return 1 if l1 == l2 else 0"
   ]
  },
  {
   "cell_type": "code",
   "execution_count": 23,
   "id": "c79b3201",
   "metadata": {},
   "outputs": [],
   "source": [
    "def test(splitter, test:dict) -> dict:\n",
    "    total_right_answ = 0\n",
    "    start_time = time.time()\n",
    "    for word in test:\n",
    "        output = splitter(word).get_syllables(keep_phoneme_transcription=False)\n",
    "        same = is_same(output, test[word])\n",
    "#        if same == 0:\n",
    "#            print(word, test[word], output)\n",
    "        total_right_answ += same\n",
    "    end_time = time.time()\n",
    "    execution_time = end_time - start_time\n",
    "    return total_right_answ / len(test_dict), execution_time"
   ]
  },
  {
   "cell_type": "code",
   "execution_count": 24,
   "id": "9a1acf2b",
   "metadata": {},
   "outputs": [
    {
     "data": {
      "text/plain": [
       "(0.8507462686567164, 0.021542072296142578)"
      ]
     },
     "execution_count": 24,
     "metadata": {},
     "output_type": "execute_result"
    }
   ],
   "source": [
    "test(SyllableSplitter, test_dict)"
   ]
  },
  {
   "cell_type": "code",
   "execution_count": 26,
   "id": "fb6b478e",
   "metadata": {},
   "outputs": [
    {
     "name": "stdout",
     "output_type": "stream",
     "text": [
      "Average time per execution (67 words): 0.012090 seconds\n",
      "Average time per word: 0.000180 seconds\n",
      "Words per second: 5542\n"
     ]
    }
   ],
   "source": [
    "execution_time = timeit.timeit(\n",
    "    lambda: list(map(lambda word: SyllableSplitter(word).get_syllables(keep_phoneme_transcription=False), test_dict.keys())), \n",
    "    number=1000\n",
    ")\n",
    "\n",
    "avg_per_execution = execution_time / 1000  # Average time for processing all 67 words\n",
    "time_per_word = avg_per_execution / 67     # Average time per single word\n",
    "\n",
    "print(f\"Average time per execution (67 words): {avg_per_execution:.6f} seconds\")\n",
    "print(f\"Average time per word: {time_per_word:.6f} seconds\")\n",
    "print(f\"Words per second: {1/time_per_word:.0f}\")"
   ]
  }
 ],
 "metadata": {
  "kernelspec": {
   "display_name": "Python 3 (ipykernel)",
   "language": "python",
   "name": "python3"
  }
 },
 "nbformat": 4,
 "nbformat_minor": 5
}
